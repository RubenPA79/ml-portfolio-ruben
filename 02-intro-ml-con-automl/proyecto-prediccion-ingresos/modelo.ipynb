{
 "cells": [
  {
   "cell_type": "code",
   "execution_count": null,
   "id": "1a313041",
   "metadata": {
    "vscode": {
     "languageId": "plaintext"
    }
   },
   "outputs": [],
   "source": [
    "# Predicción de ingresos con LogisticRegression\n",
    "\n",
    "import pandas as pd\n",
    "import numpy as np\n",
    "from sklearn.model_selection import train_test_split\n",
    "from sklearn.preprocessing import LabelEncoder\n",
    "from sklearn.linear_model import LogisticRegression\n",
    "from sklearn.metrics import accuracy_score, confusion_matrix, classification_report\n",
    "import seaborn as sns\n",
    "import matplotlib.pyplot as plt\n",
    "\n",
    "# Cargar el dataset\n",
    "df = pd.read_csv(\"adult.csv\")\n",
    "\n",
    "# Vista previa\n",
    "print(\"👀 Vista previa del dataset:\")\n",
    "print(df.head())\n",
    "\n",
    "# Eliminar filas con valores nulos\n",
    "df = df.replace(' ?', np.nan)\n",
    "df = df.dropna()\n",
    "\n",
    "# Codificar variables categóricas\n",
    "label_cols = df.select_dtypes(include='object').columns\n",
    "\n",
    "le = LabelEncoder()\n",
    "for col in label_cols:\n",
    "    df[col] = le.fit_transform(df[col])\n",
    "\n",
    "# Separar características y etiqueta\n",
    "X = df.drop(\"income\", axis=1)\n",
    "y = df[\"income\"]\n",
    "\n",
    "# Dividir en entrenamiento y prueba\n",
    "X_train, X_test, y_train, y_test = train_test_split(X, y, test_size=0.2, random_state=42)\n",
    "\n",
    "# Entrenar el modelo\n",
    "modelo = LogisticRegression(max_iter=200)\n",
    "modelo.fit(X_train, y_train)\n",
    "\n",
    "# Predicciones\n",
    "y_pred = modelo.predict(X_test)\n",
    "\n",
    "# Métricas\n",
    "print(\"📊 Accuracy:\", accuracy_score(y_test, y_pred))\n",
    "print(\"\\n🧾 Classification Report:\")\n",
    "print(classification_report(y_test, y_pred))\n",
    "\n",
    "# Matriz de confusión\n",
    "conf_matrix = confusion_matrix(y_test, y_pred)\n",
    "sns.heatmap(conf_matrix, annot=True, fmt=\"d\", cmap=\"Blues\")\n",
    "plt.title(\"Matriz de Confusión\")\n",
    "plt.xlabel(\"Predicción\")\n",
    "plt.ylabel(\"Valor real\")\n",
    "plt.tight_layout()\n",
    "plt.show()\n"
   ]
  }
 ],
 "metadata": {
  "language_info": {
   "name": "python"
  }
 },
 "nbformat": 4,
 "nbformat_minor": 5
}
